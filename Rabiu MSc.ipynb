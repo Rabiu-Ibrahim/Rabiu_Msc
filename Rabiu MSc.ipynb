{
 "cells": [
  {
   "cell_type": "code",
   "execution_count": null,
   "metadata": {},
   "outputs": [],
   "source": [
    "import os"
   ]
  },
  {
   "cell_type": "code",
   "execution_count": null,
   "metadata": {},
   "outputs": [],
   "source": [
    "# change to parent directory\n",
    "\n",
    "project_dir = os.getcwd()\n",
    "\n",
    "src = 'eng'\n",
    "tgt = 'hau'\n",
    "\n",
    "%cd {project_dir}"
   ]
  },
  {
   "cell_type": "code",
   "execution_count": null,
   "metadata": {},
   "outputs": [],
   "source": [
    "# install requirements\n",
    "\n",
    "%pip install -r requirements.txt"
   ]
  },
  {
   "cell_type": "code",
   "execution_count": null,
   "metadata": {},
   "outputs": [],
   "source": [
    "# download required files\n",
    "\n",
    "# panlex repo and bi-lingual dictionaries\n",
    "# hauWE embeddings\n",
    "# vecmap repo\n",
    "\n",
    "!bash scripts/get_models_data_repos.sh"
   ]
  },
  {
   "cell_type": "code",
   "execution_count": null,
   "metadata": {},
   "outputs": [],
   "source": [
    "# process hauWE and download and save word2vec-google-news-300 word embeddings\n",
    "\n",
    "!python3 scripts/process_embeddings.py"
   ]
  },
  {
   "cell_type": "code",
   "execution_count": null,
   "metadata": {},
   "outputs": [],
   "source": [
    "# extract the bilingual embeddings\n",
    "\n",
    "!python3 Panlex/Panlex-Lexicon-Extractor/extract.py \\\n",
    "    --source_language=hau \\\n",
    "    --target_language=eng \\\n",
    "    --sql_database=data/panlex_lite/db.sqlite \\\n",
    "    --output_directory=data/lexicons"
   ]
  },
  {
   "cell_type": "code",
   "execution_count": null,
   "metadata": {},
   "outputs": [],
   "source": [
    "# normalize the bi-lingual lexicons dictonary\n",
    "\n",
    "!python3 normalize_dict.py \\\n",
    "  -i data/lexicons/{src}_{tgt}_lexicon.txt \\\n",
    "  -o data/lexicons/{src}_{tgt}_normalized_lexicon.txt"
   ]
  },
  {
   "cell_type": "code",
   "execution_count": null,
   "metadata": {},
   "outputs": [],
   "source": [
    "# create cross-lingual word embeddings\n",
    "\n",
    "!python3 vecmap/map_embeddings.py \\\n",
    "  --supervised \\\n",
    "  \"PanLex/data/lexicons/norm_hau_eng_lexicon.txt\" \\\n",
    "  \"embeddings/ha_model.txt\" \\\n",
    "  \"embeddings/en_model.txt\" \\\n",
    "  \"embeddings/en-ha-clwe/supervised/ha_model\" \\\n",
    "  \"embeddings/en-ha-clwe/supervised/en_model\" \\\n",
    "  --cuda \\\n",
    "  --batch_size 2000 \\\n",
    "  --dict_delimeter \"\\t\""
   ]
  },
  {
   "cell_type": "code",
   "execution_count": null,
   "metadata": {},
   "outputs": [],
   "source": []
  }
 ],
 "metadata": {
  "language_info": {
   "name": "python"
  },
  "orig_nbformat": 4
 },
 "nbformat": 4,
 "nbformat_minor": 2
}
